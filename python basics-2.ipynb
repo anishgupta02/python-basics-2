{
 "cells": [
  {
   "cell_type": "code",
   "execution_count": 3,
   "id": "be5450c0",
   "metadata": {},
   "outputs": [
    {
     "name": "stdout",
     "output_type": "stream",
     "text": [
      "enter the value of m 3\n",
      "enter the value of n 9\n",
      "42\n"
     ]
    }
   ],
   "source": [
    "m=int(input(\"enter the value of m \"))\n",
    "n=int(input(\"enter the value of n \"))\n",
    "s=0\n",
    "for i in range(m,n+1):\n",
    "    s=s+m\n",
    "    m=m+1\n",
    "print(s)\n",
    "    \n",
    "\n"
   ]
  },
  {
   "cell_type": "code",
   "execution_count": 6,
   "id": "cd2c5c6b",
   "metadata": {},
   "outputs": [
    {
     "name": "stdout",
     "output_type": "stream",
     "text": [
      "enter -1 to exit\n",
      "enter a number 2\n",
      "enter a number 3\n",
      "enter a number 4\n",
      "enter a number 0\n",
      "enter a number 0\n",
      "enter a number -7\n",
      "enter a number -8\n",
      "enter a number -1\n",
      "3\n",
      "2\n",
      "2\n"
     ]
    }
   ],
   "source": [
    "n=p=z=0\n",
    "print(\"enter -1 to exit\")\n",
    "while(1):\n",
    "    num=int(input(\"enter a number \"))\n",
    "    if(num==-1):\n",
    "        break\n",
    "    elif(num==0):\n",
    "        z=z+1\n",
    "    elif(num>0):\n",
    "        p=p+1\n",
    "    else:\n",
    "        n=n+1\n",
    "print(p)\n",
    "print(n)\n",
    "print(z)\n"
   ]
  },
  {
   "cell_type": "code",
   "execution_count": 1,
   "id": "8045c8d4",
   "metadata": {},
   "outputs": [
    {
     "name": "stdout",
     "output_type": "stream",
     "text": [
      "enter -1 to encounter \n",
      "enter the num 3\n",
      "enter the num 7\n",
      "enter the num -2\n",
      "enter the num -6\n",
      "enter the num -1\n",
      "-3.0\n",
      "3.5\n"
     ]
    }
   ],
   "source": [
    "ap=an=0\n",
    "cp=cn=0\n",
    "print(\"enter -1 to encounter \")\n",
    "while(1):\n",
    "    n=int(input(\"enter the num \"))\n",
    "    if(n==-1):\n",
    "        break\n",
    "    elif(n<0):\n",
    "        cn=cn+1\n",
    "        sn=an+n\n",
    "    else:\n",
    "        cp=cp+1\n",
    "        sp=ap+n\n",
    "an=sn/cn\n",
    "ap=sp/cp\n",
    "print(an)\n",
    "print(ap)\n",
    "    "
   ]
  },
  {
   "cell_type": "code",
   "execution_count": 3,
   "id": "a230873d",
   "metadata": {},
   "outputs": [
    {
     "name": "stdout",
     "output_type": "stream",
     "text": [
      "enter the number727\n",
      "not armstrong\n"
     ]
    }
   ],
   "source": [
    "n=int(input(\"enter the number\"))\n",
    "s=0\n",
    "num=n\n",
    "while(n>0):\n",
    "    r=n%10\n",
    "    s=s+r**3\n",
    "    n=n/10\n",
    "if(num==s):\n",
    "    print(\"armstrong\")\n",
    "else:\n",
    "    print(\"not armstrong\")\n",
    "    "
   ]
  },
  {
   "cell_type": "code",
   "execution_count": 5,
   "id": "dc50d835",
   "metadata": {},
   "outputs": [
    {
     "name": "stdout",
     "output_type": "stream",
     "text": [
      "enter a number4\n",
      "100"
     ]
    }
   ],
   "source": [
    "n=int(input(\"enter a number\"))\n",
    "l=list()\n",
    "d=0\n",
    "while(n!=0):\n",
    "    r=n%2\n",
    "    l.append(r)\n",
    "    n=n//2\n",
    "l.reverse()\n",
    "for i in l:\n",
    "    print(i,end=\"\")\n",
    "    \n",
    "    \n"
   ]
  },
  {
   "cell_type": "code",
   "execution_count": 10,
   "id": "b4440608",
   "metadata": {},
   "outputs": [
    {
     "name": "stdout",
     "output_type": "stream",
     "text": [
      "enter a binary number 1001\n",
      "9\n"
     ]
    }
   ],
   "source": [
    "n=int(input(\"enter a binary number \"))\n",
    "d=0\n",
    "i=0\n",
    "while(n!=0):\n",
    "    r=n%10\n",
    "    d=d+r*(2**i)\n",
    "    n=n//10\n",
    "    i=i+1\n",
    "print(d)"
   ]
  },
  {
   "cell_type": "code",
   "execution_count": 2,
   "id": "ab3f40b0",
   "metadata": {},
   "outputs": [
    {
     "name": "stdout",
     "output_type": "stream",
     "text": [
      "enter * to encounter\n",
      "enter another item a\n",
      "enter another item b\n",
      "enter another item A\n",
      "enter another item D\n",
      "enter another item 1\n",
      "enter another item 2\n",
      "enter another item *\n",
      "NO OF NUMBERS  2\n",
      "NO OF LOWER CASES  2\n",
      "NO OF UPPER CASES  2\n"
     ]
    }
   ],
   "source": [
    "print(\"enter * to encounter\")\n",
    "u=l=n=0\n",
    "ch=0\n",
    "while(ch!='*'):\n",
    "    ch=input(\"enter another item \")\n",
    "    if(ch<='9' and ch>='0'):\n",
    "        n=n+1\n",
    "    elif(ch>='a' and ch<='z'):\n",
    "        l=l+1\n",
    "    elif(ch>='A' and ch<='Z'):\n",
    "        u=u+1\n",
    "print(\"NO OF NUMBERS \",+n)\n",
    "print(\"NO OF LOWER CASES \",+l)\n",
    "print(\"NO OF UPPER CASES \",+u)\n",
    "    \n"
   ]
  },
  {
   "cell_type": "code",
   "execution_count": 4,
   "id": "18dfbc3d",
   "metadata": {},
   "outputs": [
    {
     "name": "stdout",
     "output_type": "stream",
     "text": [
      "enter 1st number2\n",
      "enter 2nd number4\n",
      "gcd is  2\n"
     ]
    }
   ],
   "source": [
    "a=int(input(\"enter 1st number\"))\n",
    "b=int(input(\"enter 2nd number\"))\n",
    "if(a>b):\n",
    "    dividend=a\n",
    "    divisor=b\n",
    "else:\n",
    "    dividend=b\n",
    "    divisor=a\n",
    "while(divisor!=0):\n",
    "    r=dividend%divisor\n",
    "    dividend=divisor\n",
    "    divisor=r\n",
    "print(\"gcd is \",+dividend)"
   ]
  },
  {
   "cell_type": "code",
   "execution_count": 2,
   "id": "fd41ac32",
   "metadata": {},
   "outputs": [
    {
     "name": "stdout",
     "output_type": "stream",
     "text": [
      "enter a number 2335\n",
      "5332"
     ]
    }
   ],
   "source": [
    "n=int(input(\"enter a number \"))\n",
    "l=list()\n",
    "while(n!=0):\n",
    "    r=n%10\n",
    "    l.append(r)\n",
    "    n=n//10\n",
    "for i in l:\n",
    "    print(i,end='')"
   ]
  },
  {
   "cell_type": "code",
   "execution_count": 51,
   "id": "a6eb88aa",
   "metadata": {},
   "outputs": [
    {
     "name": "stdout",
     "output_type": "stream",
     "text": [
      "enter a number 5\n",
      "5\n",
      "4\n",
      "3\n",
      "2\n",
      "1\n",
      "0\n"
     ]
    }
   ],
   "source": [
    "n=int(input(\"enter a number \"))\n",
    "while(n>=0):\n",
    "    print(n)\n",
    "    n=n-1\n",
    "        "
   ]
  },
  {
   "cell_type": "code",
   "execution_count": 17,
   "id": "6921be49",
   "metadata": {},
   "outputs": [
    {
     "name": "stdout",
     "output_type": "stream",
     "text": [
      "enter a number 343\n",
      "palindrome\n"
     ]
    }
   ],
   "source": [
    "n=int(input(\"enter a number \"))\n",
    "temp=n\n",
    "rev=0\n",
    "while(n!=0):\n",
    "    d=n%10\n",
    "    rev=rev*10+d\n",
    "    n=n//10\n",
    "if(temp==rev):\n",
    "    print(\"palindrome\")\n",
    "else:\n",
    "    print(\"not a palindrome\")\n",
    "    \n",
    "    "
   ]
  },
  {
   "cell_type": "code",
   "execution_count": 18,
   "id": "e4624264",
   "metadata": {},
   "outputs": [
    {
     "name": "stdout",
     "output_type": "stream",
     "text": [
      "enter a number 6\n",
      "factorial is  720\n"
     ]
    }
   ],
   "source": [
    "n=int(input(\"enter a number \"))\n",
    "fact=1\n",
    "if(n==0 or n==1):\n",
    "    fact=1\n",
    "for i in range (2,n+1):\n",
    "    fact=fact*i\n",
    "print(\"factorial is \",+fact)"
   ]
  },
  {
   "cell_type": "code",
   "execution_count": 52,
   "id": "dfc52e6d",
   "metadata": {},
   "outputs": [
    {
     "name": "stdout",
     "output_type": "stream",
     "text": [
      "enter a number 5\n",
      "enter a number to which it has to be raised 4\n",
      "the required power value is  27\n"
     ]
    }
   ],
   "source": [
    "n=int(input(\"enter a number \"))#algorithm incorrect\n",
    "r=int(input(\"enter a number to which it has to be raised \"))\n",
    "result=1\n",
    "for i in range(r):\n",
    "    result=result*i\n",
    "print(\"the required power value is \",+x)"
   ]
  },
  {
   "cell_type": "raw",
   "id": "8859f691",
   "metadata": {},
   "source": [
    "\n",
    "    "
   ]
  },
  {
   "cell_type": "code",
   "execution_count": 32,
   "id": "6bbbadf1",
   "metadata": {},
   "outputs": [
    {
     "name": "stdout",
     "output_type": "stream",
     "text": [
      "enter the number 5\n",
      "1\n",
      "11\n",
      "111\n",
      "1111\n",
      "11111\n",
      "11111\n",
      "1111\n",
      "111\n",
      "11\n",
      "1\n",
      "\n"
     ]
    }
   ],
   "source": [
    "n=int(input(\"enter the number \"))\n",
    "for i in range(1,n+1):\n",
    "    for j in range(1,i+1):\n",
    "        print(\"1\",end=\"\")\n",
    "    print()\n",
    "for k in range(n+1,0,-1):\n",
    "    for l in range(0,k-1):\n",
    "        print(\"1\",end=\"\")\n",
    "    print()\n"
   ]
  },
  {
   "cell_type": "code",
   "execution_count": 34,
   "id": "37efdc28",
   "metadata": {},
   "outputs": [
    {
     "name": "stdout",
     "output_type": "stream",
     "text": [
      "enter the number 5\n",
      "1  1  1  1  1  \n",
      "1  1  1  1  1  \n",
      "1  1  1  1  1  \n",
      "1  1  1  1  1  \n",
      "1  1  1  1  1  \n"
     ]
    }
   ],
   "source": [
    "n=int(input(\"enter the number \"))\n",
    "for i in range (n):\n",
    "    for j in range(n):\n",
    "        print(\"1\",end=\"  \")\n",
    "    print()"
   ]
  },
  {
   "cell_type": "code",
   "execution_count": 37,
   "id": "7fac6f57",
   "metadata": {},
   "outputs": [
    {
     "name": "stdout",
     "output_type": "stream",
     "text": [
      "enter the number 5\n",
      "1  \n",
      "1  1  \n",
      "1  1  1  \n",
      "1  1  1  1  \n",
      "1  1  1  1  1  \n"
     ]
    }
   ],
   "source": [
    "n=int(input(\"enter the number \"))\n",
    "for i in range (n):\n",
    "    for j in range(i+1):\n",
    "        print(\"1\",end=\"  \")\n",
    "    print()"
   ]
  },
  {
   "cell_type": "code",
   "execution_count": 38,
   "id": "a992f196",
   "metadata": {},
   "outputs": [
    {
     "name": "stdout",
     "output_type": "stream",
     "text": [
      "enter the number 5\n",
      "1  1  1  1  1  \n",
      "1  1  1  1  \n",
      "1  1  1  \n",
      "1  1  \n",
      "1  \n"
     ]
    }
   ],
   "source": [
    "n=int(input(\"enter the number \"))\n",
    "for i in range (n):\n",
    "    for j in range(i,n):\n",
    "        print(\"1\",end=\"  \")\n",
    "    print()"
   ]
  },
  {
   "cell_type": "code",
   "execution_count": 39,
   "id": "9634c97b",
   "metadata": {},
   "outputs": [
    {
     "name": "stdout",
     "output_type": "stream",
     "text": [
      "enter the number 5\n",
      "               *  \n",
      "            *  *  \n",
      "         *  *  *  \n",
      "      *  *  *  *  \n",
      "   *  *  *  *  *  \n"
     ]
    }
   ],
   "source": [
    "n=int(input(\"enter the number \"))\n",
    "for i in range (n):\n",
    "    for j in range(i,n):\n",
    "        print(\" \",end=\"  \")\n",
    "    for j in range(i+1):\n",
    "        print(\"*\",end=\"  \")\n",
    "    print()"
   ]
  },
  {
   "cell_type": "code",
   "execution_count": 40,
   "id": "e210cf31",
   "metadata": {},
   "outputs": [
    {
     "name": "stdout",
     "output_type": "stream",
     "text": [
      "enter the number 5\n",
      "   *  *  *  *  *  \n",
      "      *  *  *  *  \n",
      "         *  *  *  \n",
      "            *  *  \n",
      "               *  \n"
     ]
    }
   ],
   "source": [
    "n=int(input(\"enter the number \"))\n",
    "for i in range (n):\n",
    "    for j in range(i+1):\n",
    "        print(\" \",end=\"  \")\n",
    "    for j in range(i,n):\n",
    "        print(\"*\",end=\"  \")\n",
    "    print()"
   ]
  },
  {
   "cell_type": "code",
   "execution_count": 43,
   "id": "ec2f3241",
   "metadata": {},
   "outputs": [
    {
     "name": "stdout",
     "output_type": "stream",
     "text": [
      "enter the number 5\n",
      "               *  \n",
      "            *  *  *  \n",
      "         *  *  *  *  *  \n",
      "      *  *  *  *  *  *  *  \n",
      "   *  *  *  *  *  *  *  *  *  \n"
     ]
    }
   ],
   "source": [
    "n=int(input(\"enter the number \"))\n",
    "for i in range (n):\n",
    "    for j in range(i,n):\n",
    "        print(\" \",end=\"  \")\n",
    "    for j in range(i+1):\n",
    "        print(\"*\",end=\"  \")\n",
    "    for j in range (i):\n",
    "        print(\"*\",end=\"  \")\n",
    "    print()"
   ]
  },
  {
   "cell_type": "code",
   "execution_count": 46,
   "id": "90f1846e",
   "metadata": {},
   "outputs": [
    {
     "name": "stdout",
     "output_type": "stream",
     "text": [
      "enter a number 5\n",
      "  * * * * * * * * * \n",
      "    * * * * * * * \n",
      "      * * * * * \n",
      "        * * * \n",
      "          * \n"
     ]
    }
   ],
   "source": [
    "n=int(input(\"enter a number \"))\n",
    "for i in range(n):\n",
    "    for j in range (i+1):\n",
    "        print(\" \",end=\" \")\n",
    "    for j in range(i,n-1):\n",
    "        print(\"*\",end=\" \")\n",
    "    for j in range(i,n):\n",
    "        print(\"*\",end=\" \")\n",
    "    print()\n",
    "    "
   ]
  },
  {
   "cell_type": "code",
   "execution_count": 4,
   "id": "c5cf5d09",
   "metadata": {},
   "outputs": [
    {
     "name": "stdout",
     "output_type": "stream",
     "text": [
      "enter the number 8\n",
      "                * \n",
      "              * * * \n",
      "            * * * * * \n",
      "          * * * * * * * \n",
      "        * * * * * * * * * \n",
      "      * * * * * * * * * * * \n",
      "    * * * * * * * * * * * * * \n",
      "  * * * * * * * * * * * * * * * \n",
      "    * * * * * * * * * * * * * \n",
      "      * * * * * * * * * * * \n",
      "        * * * * * * * * * \n",
      "          * * * * * * * \n",
      "            * * * * * \n",
      "              * * * \n",
      "                * \n"
     ]
    }
   ],
   "source": [
    "n=int(input(\"enter the number \"))\n",
    "for i in range(n-1):\n",
    "    for j in range(i,n):\n",
    "        print(\" \",end=\" \")\n",
    "    for j in range(i):\n",
    "        print(\"*\",end=\" \")\n",
    "    for j in range(i+1):\n",
    "        print(\"*\",end=\" \")\n",
    "    print()\n",
    "for i in range(n):\n",
    "    for j in range(i+1):\n",
    "        print(\" \",end=\" \")\n",
    "    for j in range (i,n-1):\n",
    "        print(\"*\",end=\" \")\n",
    "    for j in range(i,n):\n",
    "        print(\"*\",end=\" \")\n",
    "    print()\n"
   ]
  },
  {
   "cell_type": "code",
   "execution_count": 7,
   "id": "1a15bb80",
   "metadata": {},
   "outputs": [
    {
     "name": "stdout",
     "output_type": "stream",
     "text": [
      "enter the number 67\n",
      "8.18535277187245\n",
      "enter the number -9\n",
      "negative do not have square root\n",
      "enter the number 45\n",
      "6.708203932499369\n",
      "enter the number 81\n",
      "9.0\n",
      "enter the number 0\n"
     ]
    }
   ],
   "source": [
    "import math\n",
    "n=1\n",
    "while(n!=0):\n",
    "    n=int(input(\"enter the number \"))\n",
    "    if(n==0):\n",
    "        break\n",
    "    elif(n<=0):\n",
    "        print(\"negative do not have square root\")\n",
    "        continue\n",
    "    else:\n",
    "        print(math.sqrt(n))"
   ]
  },
  {
   "cell_type": "markdown",
   "id": "f37e3920",
   "metadata": {},
   "source": []
  },
  {
   "cell_type": "code",
   "execution_count": 15,
   "id": "b1576a26",
   "metadata": {},
   "outputs": [
    {
     "name": "stdout",
     "output_type": "stream",
     "text": [
      "enter any number 5\n",
      "enter another number 3\n",
      "enter another number 4\n",
      "enter another number 6\n",
      "enter another number -1\n",
      "composite  3\n",
      "prime  4\n"
     ]
    }
   ],
   "source": [
    "p=0\n",
    "c=0\n",
    "n=int(input(\"enter any number \"))\n",
    "while(n!=-1):\n",
    "    n=int(input(\"enter another number \"))\n",
    "    for i in range(2,n):\n",
    "        if(n%i==0):\n",
    "            c=c+1\n",
    "        elif(n%i!=0):\n",
    "            p=p+1\n",
    "print(\"composite \",+c)\n",
    "print(\"prime \",+p)"
   ]
  },
  {
   "cell_type": "code",
   "execution_count": 16,
   "id": "d7ec90a9",
   "metadata": {},
   "outputs": [
    {
     "name": "stdout",
     "output_type": "stream",
     "text": [
      "1/ 2 = 0.5\n",
      "1/ 3 = 0.3333333333333333\n",
      "1/ 4 = 0.25\n",
      "1/ 5 = 0.2\n",
      "1/ 6 = 0.16666666666666666\n",
      "1/ 7 = 0.14285714285714285\n",
      "1/ 8 = 0.125\n",
      "1/ 9 = 0.1111111111111111\n",
      "1/ 10 = 0.1\n"
     ]
    }
   ],
   "source": [
    "for i in range(2,11):\n",
    "    print(\"1/\",+i,\"=\",1/i)"
   ]
  },
  {
   "cell_type": "code",
   "execution_count": 7,
   "id": "9db8b1fa",
   "metadata": {},
   "outputs": [
    {
     "name": "stdout",
     "output_type": "stream",
     "text": [
      "MATHS 67\n",
      "ENGLISH 89\n",
      "SOCIAL SCIENCE 90\n",
      "MATHS: D ,ENGLISH: B ,SOCIAL SCIENCE: B"
     ]
    }
   ],
   "source": [
    "a=int(input('MATHS '))\n",
    "b=int(input('ENGLISH '))\n",
    "c=int(input('SOCIAL SCIENCE '))\n",
    "def convertMarks(a,b,c): \n",
    "    if(a>=91):\n",
    "        print('MATHS: A',end=\"\")\n",
    "    elif(a>=81 and a<91):\n",
    "        print('MATHS: B',end=\"\")\n",
    "    elif(a>=71 and a<81):\n",
    "        print('MATHS: C',end=\"\")\n",
    "    elif(a>=61 and a<71):\n",
    "        print('MATHS: D',end=\"\")\n",
    "    elif(a>=51 and a<61):\n",
    "        print('MATHS: E+',end=\"\")\n",
    "    elif(a>=41 and a<51):\n",
    "        print('MATHS: E',end=\"\")\n",
    "    elif(a>=0 and a<41):\n",
    "        print('MATHS: F',end=\"\")\n",
    "    if(b>=91):\n",
    "        print(' ,ENGLISH: A',end=\"\")\n",
    "    elif(b>=81 and b<91):\n",
    "        print(' ,ENGLISH: B',end=\"\")\n",
    "    elif(b>=71 and b<81):\n",
    "        print(' ,ENGLISH: C',end=\"\")\n",
    "    elif(b>=61 and b<71):\n",
    "        print(' ,ENGLISH: D',end=\"\")\n",
    "    elif(b>=51 and b<61):\n",
    "        print(' ,ENGLISH E+',end=\"\")\n",
    "    elif(b>=41 and b<51):\n",
    "        print(' ,ENGLISH: E',end=\"\")\n",
    "    elif(b>=0 and b<41):\n",
    "        print('  ,ENGLISH: F',end=\"\")\n",
    "    if(c>=91):\n",
    "        print(' ,SOCIAL SCIENCE: A',end=\"\")\n",
    "    elif(c>=81 and c<91):\n",
    "        print(' ,SOCIAL SCIENCE: B',end=\"\")\n",
    "    elif(c>=71 and c<81):\n",
    "        print(' ,SOCIAL SCIENCE: C',end=\"\")\n",
    "    elif(c>=61 and c<71):\n",
    "        print(' ,SOCIAL SCIENCE: D',end=\"\")\n",
    "    elif(c>=51 and c<61):\n",
    "        print(' ,SOCIAL SCIENCE: E+',end=\"\")\n",
    "    elif(c>=41 and c<51):\n",
    "        print(' ,SOCIAL SCIENCE: E',end=\"\")\n",
    "    elif(c>=0 and c<41):\n",
    "        print(' ,SOCIAL SCIENCE: F',end=\"\")\n",
    "convertMarks(a,b,c)\n"
   ]
  },
  {
   "cell_type": "code",
   "execution_count": 7,
   "id": "03745dab",
   "metadata": {},
   "outputs": [
    {
     "name": "stdout",
     "output_type": "stream",
     "text": [
      "{'autria': 43, 'argentina': 54, 'brazil': 55, 'australia': 61, 'india': 91, 'srilanka': 94, 'bangladesh': 880}\n"
     ]
    }
   ],
   "source": [
    "def convertL():\n",
    "    list_of_tuples=[('srilanka',+94),('india',+91),('australia',+61),('argentina',+54),('autria',+43),('bangladesh',+880),('brazil',+55)]\n",
    "    list_to_dict=dict(list_of_tuples)\n",
    "    ascen_order=sorted(list_to_dict.items(),key=lambda x:x[1])\n",
    "    final_order=dict(ascen_order)ppu rey\n",
    "    print(final_order)\n",
    "convertL()"
   ]
  },
  {
   "cell_type": "code",
   "execution_count": null,
   "id": "509a8a3d",
   "metadata": {},
   "outputs": [],
   "source": []
  }
 ],
 "metadata": {
  "kernelspec": {
   "display_name": "Python 3 (ipykernel)",
   "language": "python",
   "name": "python3"
  },
  "language_info": {
   "codemirror_mode": {
    "name": "ipython",
    "version": 3
   },
   "file_extension": ".py",
   "mimetype": "text/x-python",
   "name": "python",
   "nbconvert_exporter": "python",
   "pygments_lexer": "ipython3",
   "version": "3.9.12"
  }
 },
 "nbformat": 4,
 "nbformat_minor": 5
}
